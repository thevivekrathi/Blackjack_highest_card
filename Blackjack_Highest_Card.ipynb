{
  "nbformat": 4,
  "nbformat_minor": 0,
  "metadata": {
    "colab": {
      "name": "Blackjack_Highest_Card.ipynb",
      "provenance": [],
      "authorship_tag": "ABX9TyNldOX/MSw0/g+/idw83cui",
      "include_colab_link": true
    },
    "kernelspec": {
      "name": "python3",
      "display_name": "Python 3"
    },
    "language_info": {
      "name": "python"
    }
  },
  "cells": [
    {
      "cell_type": "markdown",
      "metadata": {
        "id": "view-in-github",
        "colab_type": "text"
      },
      "source": [
        "<a href=\"https://colab.research.google.com/github/thevivekrathi/Blackjack_highest_card/blob/main/Blackjack_Highest_Card.ipynb\" target=\"_parent\"><img src=\"https://colab.research.google.com/assets/colab-badge.svg\" alt=\"Open In Colab\"/></a>"
      ]
    },
    {
      "cell_type": "markdown",
      "metadata": {
        "id": "y8F7pX1dHCj0"
      },
      "source": [
        "### In this notebook, we are creating a function that returns if the score is **below**, **above** or equal to 21 (**Blackjack**) and the highest card."
      ]
    },
    {
      "cell_type": "code",
      "metadata": {
        "id": "z1JtShrjGXwM"
      },
      "source": [
        "def score(hand):\n",
        "  \n",
        "  total = 0\n",
        "  v_high = 0\n",
        "  high = []\n",
        "  ace_present = False\n",
        "\n",
        "  for i in hand:\n",
        "    if i == 'ace':\n",
        "      ace_present = True\n",
        "    \n",
        "    elif i == 'two':\n",
        "      v = 2\n",
        "      total += 2\n",
        "      if v > v_high:\n",
        "        v_high = v\n",
        "        print('High card so far:', i)\n",
        "        high.append(i)\n",
        "\n",
        "    elif i == 'three':\n",
        "      v = 3\n",
        "      total += 3\n",
        "      if v > v_high:\n",
        "        v_high = v\n",
        "        print('High card so far:', i)\n",
        "        high.append(i)\n",
        "\n",
        "    elif i == 'four':\n",
        "      v = 4\n",
        "      total += 4\n",
        "      if v > v_high:\n",
        "        v_high = v\n",
        "        print('High card so far:', i)\n",
        "        high.append(i)\n",
        "\n",
        "    elif i == 'five':\n",
        "      v = 5\n",
        "      total += 5\n",
        "      if v > v_high:\n",
        "        v_high = v\n",
        "        print('High card so far:', i)\n",
        "        high.append(i)\n",
        "\n",
        "    elif i == 'six':\n",
        "      v = 6\n",
        "      total += 6\n",
        "      if v > v_high:\n",
        "        v_high = v\n",
        "        print('High card so far:', i)\n",
        "        high.append(i)\n",
        "\n",
        "    elif i == 'seven':\n",
        "      v = 7\n",
        "      total += 7\n",
        "      if v > v_high:\n",
        "        v_high = v\n",
        "        print('High card so far:', i)\n",
        "        high.append(i)\n",
        "\n",
        "    elif i == 'eight':\n",
        "      v = 8\n",
        "      total += 8\n",
        "      if v > v_high:\n",
        "        v_high = v\n",
        "        print('High card so far:', i)\n",
        "        high.append(i)\n",
        "\n",
        "    elif i == 'nine':\n",
        "      v = 9\n",
        "      total += 9\n",
        "      if v > v_high:\n",
        "        v_high = v\n",
        "        print('High card so far:', i)\n",
        "        high.append(i)\n",
        "\n",
        "    elif i == 'ten':\n",
        "      v = 10\n",
        "      total += 10\n",
        "      if v > v_high:\n",
        "        v_high = v\n",
        "        print('High card so far:', i)\n",
        "        high.append(i)\n",
        "\n",
        "    elif i == 'jack':\n",
        "      v = 10\n",
        "      total += 10\n",
        "      if v > v_high:\n",
        "        v_high = v\n",
        "        print('High card so far:', i)\n",
        "        high.append(i)\n",
        "\n",
        "    elif i == 'queen':\n",
        "      v = 10\n",
        "      total += 10\n",
        "      if v > v_high:\n",
        "        v_high = v\n",
        "        print('High card so far:', i)\n",
        "        high.append(i)\n",
        "\n",
        "    elif i == 'king':\n",
        "      v = 10\n",
        "      total += 10\n",
        "      if v > v_high:\n",
        "        v_high = v\n",
        "        print('High card so far:', i)\n",
        "        high.append(i)\n",
        "\n",
        "\n",
        "  if ace_present == False:\n",
        "    total = total\n",
        "  else:\n",
        "    if total >= 11:\n",
        "      v = 1\n",
        "      total += 1\n",
        "      if v > v_high:\n",
        "        v_high = v\n",
        "        print('High card so far:', 'ace')\n",
        "        high.append('ace')\n",
        "\n",
        "    else:\n",
        "      v = 11\n",
        "      total += 11\n",
        "      if v > v_high:\n",
        "        v_high = v\n",
        "        print('High card so far:', 'ace')\n",
        "        high.append('ace')\n",
        "  \n",
        "  print(high)\n",
        "  high_card = high[-1]\n",
        "\n",
        "  if total == 21:\n",
        "    output = 'blackjack'\n",
        "    print('\\nBlackjack')\n",
        "  elif total < 21:\n",
        "    output = 'below'\n",
        "    print('\\nBelow 21')\n",
        "  else:\n",
        "    output = 'above'\n",
        "    print('\\nAbove 21')\n",
        "\n",
        "  print('\\nScore is', total, '\\n')\n",
        "\n",
        "  strArr = [output, high_card]\n",
        "  strArr = ' '.join(strArr)\n",
        "\n",
        "  return print(strArr)"
      ],
      "execution_count": 17,
      "outputs": []
    },
    {
      "cell_type": "code",
      "metadata": {
        "colab": {
          "base_uri": "https://localhost:8080/"
        },
        "id": "Im1HY5OeGiai",
        "outputId": "8e332a4a-208b-46d3-8e32-47180e58433f"
      },
      "source": [
        "hand=['ace', 'queen']\n",
        "score(hand)"
      ],
      "execution_count": 18,
      "outputs": [
        {
          "output_type": "stream",
          "text": [
            "High card so far: queen\n",
            "High card so far: ace\n",
            "['queen', 'ace']\n",
            "\n",
            "Blackjack\n",
            "\n",
            "Score is 21 \n",
            "\n",
            "blackjack ace\n"
          ],
          "name": "stdout"
        }
      ]
    },
    {
      "cell_type": "code",
      "metadata": {
        "id": "jW9GO0QMG1z6"
      },
      "source": [
        ""
      ],
      "execution_count": null,
      "outputs": []
    }
  ]
}